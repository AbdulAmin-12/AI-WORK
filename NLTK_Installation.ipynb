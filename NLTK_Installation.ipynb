{
 "cells": [
  {
   "cell_type": "code",
   "execution_count": 1,
   "metadata": {
    "colab": {
     "base_uri": "https://localhost:8080/"
    },
    "id": "OtdsDceWD6Ww",
    "outputId": "afdcd0d7-28b4-44ea-cca5-a2ebea34eba7"
   },
   "outputs": [
    {
     "name": "stdout",
     "output_type": "stream",
     "text": [
      "Looking in indexes: https://pypi.org/simple, https://us-python.pkg.dev/colab-wheels/public/simple/\n",
      "Requirement already satisfied: nltk in /usr/local/lib/python3.7/dist-packages (3.7)\n",
      "Requirement already satisfied: regex>=2021.8.3 in /usr/local/lib/python3.7/dist-packages (from nltk) (2022.6.2)\n",
      "Requirement already satisfied: tqdm in /usr/local/lib/python3.7/dist-packages (from nltk) (4.64.0)\n",
      "Requirement already satisfied: click in /usr/local/lib/python3.7/dist-packages (from nltk) (7.1.2)\n",
      "Requirement already satisfied: joblib in /usr/local/lib/python3.7/dist-packages (from nltk) (1.1.0)\n"
     ]
    }
   ],
   "source": [
    "!pip install nltk"
   ]
  },
  {
   "cell_type": "code",
   "execution_count": 2,
   "metadata": {
    "id": "rH61w8dsEAp6"
   },
   "outputs": [],
   "source": [
    "import nltk"
   ]
  },
  {
   "cell_type": "code",
   "execution_count": 3,
   "metadata": {
    "colab": {
     "base_uri": "https://localhost:8080/"
    },
    "id": "FboJlIGaEAr-",
    "outputId": "e0c7ac1d-851a-4fd4-8a62-f1c51fc0f482"
   },
   "outputs": [
    {
     "name": "stdout",
     "output_type": "stream",
     "text": [
      "NLTK Downloader\n",
      "---------------------------------------------------------------------------\n",
      "    d) Download   l) List    u) Update   c) Config   h) Help   q) Quit\n",
      "---------------------------------------------------------------------------\n",
      "Downloader> 1\n",
      "Command '1' unrecognized\n",
      "\n",
      "---------------------------------------------------------------------------\n",
      "    d) Download   l) List    u) Update   c) Config   h) Help   q) Quit\n",
      "---------------------------------------------------------------------------\n",
      "Downloader> d\n",
      "\n",
      "Download which package (l=list; x=cancel)?\n",
      "  Identifier> l\n",
      "Packages:\n",
      "  [ ] abc................. Australian Broadcasting Commission 2006\n",
      "  [ ] alpino.............. Alpino Dutch Treebank\n",
      "  [ ] averaged_perceptron_tagger Averaged Perceptron Tagger\n",
      "  [ ] averaged_perceptron_tagger_ru Averaged Perceptron Tagger (Russian)\n",
      "  [ ] basque_grammars..... Grammars for Basque\n",
      "  [ ] biocreative_ppi..... BioCreAtIvE (Critical Assessment of Information\n",
      "                           Extraction Systems in Biology)\n",
      "  [ ] bllip_wsj_no_aux.... BLLIP Parser: WSJ Model\n",
      "  [ ] book_grammars....... Grammars from NLTK Book\n",
      "  [ ] brown............... Brown Corpus\n",
      "  [ ] brown_tei........... Brown Corpus (TEI XML Version)\n",
      "  [ ] cess_cat............ CESS-CAT Treebank\n",
      "  [ ] cess_esp............ CESS-ESP Treebank\n",
      "  [ ] chat80.............. Chat-80 Data Files\n",
      "  [ ] city_database....... City Database\n",
      "  [ ] cmudict............. The Carnegie Mellon Pronouncing Dictionary (0.6)\n",
      "  [ ] comparative_sentences Comparative Sentence Dataset\n",
      "  [ ] comtrans............ ComTrans Corpus Sample\n",
      "  [ ] conll2000........... CONLL 2000 Chunking Corpus\n",
      "  [ ] conll2002........... CONLL 2002 Named Entity Recognition Corpus\n",
      "Hit Enter to continue: \n",
      "  [ ] conll2007........... Dependency Treebanks from CoNLL 2007 (Catalan\n",
      "                           and Basque Subset)\n",
      "  [ ] crubadan............ Crubadan Corpus\n",
      "  [ ] dependency_treebank. Dependency Parsed Treebank\n",
      "  [ ] dolch............... Dolch Word List\n",
      "  [ ] europarl_raw........ Sample European Parliament Proceedings Parallel\n",
      "                           Corpus\n",
      "  [ ] extended_omw........ Extended Open Multilingual WordNet\n",
      "  [ ] floresta............ Portuguese Treebank\n",
      "  [ ] framenet_v15........ FrameNet 1.5\n",
      "  [ ] framenet_v17........ FrameNet 1.7\n",
      "  [ ] gazetteers.......... Gazeteer Lists\n",
      "  [ ] genesis............. Genesis Corpus\n",
      "  [ ] gutenberg........... Project Gutenberg Selections\n",
      "  [ ] ieer................ NIST IE-ER DATA SAMPLE\n",
      "  [ ] inaugural........... C-Span Inaugural Address Corpus\n",
      "  [ ] indian.............. Indian Language POS-Tagged Corpus\n",
      "  [ ] jeita............... JEITA Public Morphologically Tagged Corpus (in\n",
      "                           ChaSen format)\n",
      "  [ ] kimmo............... PC-KIMMO Data Files\n",
      "  [ ] knbc................ KNB Corpus (Annotated blog corpus)\n",
      "Hit Enter to continue: \n",
      "  [ ] large_grammars...... Large context-free and feature-based grammars\n",
      "                           for parser comparison\n",
      "  [ ] lin_thesaurus....... Lin's Dependency Thesaurus\n",
      "  [ ] mac_morpho.......... MAC-MORPHO: Brazilian Portuguese news text with\n",
      "                           part-of-speech tags\n",
      "  [ ] machado............. Machado de Assis -- Obra Completa\n",
      "  [ ] masc_tagged......... MASC Tagged Corpus\n",
      "  [ ] maxent_ne_chunker... ACE Named Entity Chunker (Maximum entropy)\n",
      "  [ ] maxent_treebank_pos_tagger Treebank Part of Speech Tagger (Maximum entropy)\n",
      "  [ ] moses_sample........ Moses Sample Models\n",
      "  [ ] movie_reviews....... Sentiment Polarity Dataset Version 2.0\n",
      "  [ ] mte_teip5........... MULTEXT-East 1984 annotated corpus 4.0\n",
      "  [ ] mwa_ppdb............ The monolingual word aligner (Sultan et al.\n",
      "                           2015) subset of the Paraphrase Database.\n",
      "  [ ] names............... Names Corpus, Version 1.3 (1994-03-29)\n",
      "  [ ] nombank.1.0......... NomBank Corpus 1.0\n",
      "  [ ] nonbreaking_prefixes Non-Breaking Prefixes (Moses Decoder)\n",
      "  [ ] nps_chat............ NPS Chat\n",
      "  [ ] omw-1.4............. Open Multilingual Wordnet\n",
      "  [ ] omw................. Open Multilingual Wordnet\n",
      "  [ ] opinion_lexicon..... Opinion Lexicon\n",
      "Hit Enter to continue: \n",
      "  [ ] panlex_swadesh...... PanLex Swadesh Corpora\n",
      "  [ ] paradigms........... Paradigm Corpus\n",
      "  [ ] pe08................ Cross-Framework and Cross-Domain Parser\n",
      "                           Evaluation Shared Task\n",
      "  [ ] perluniprops........ perluniprops: Index of Unicode Version 7.0.0\n",
      "                           character properties in Perl\n",
      "  [ ] pil................. The Patient Information Leaflet (PIL) Corpus\n",
      "  [ ] pl196x.............. Polish language of the XX century sixties\n",
      "  [ ] porter_test......... Porter Stemmer Test Files\n",
      "  [ ] ppattach............ Prepositional Phrase Attachment Corpus\n",
      "  [ ] problem_reports..... Problem Report Corpus\n",
      "  [ ] product_reviews_1... Product Reviews (5 Products)\n",
      "  [ ] product_reviews_2... Product Reviews (9 Products)\n",
      "  [ ] propbank............ Proposition Bank Corpus 1.0\n",
      "  [ ] pros_cons........... Pros and Cons\n",
      "  [ ] ptb................. Penn Treebank\n",
      "  [ ] punkt............... Punkt Tokenizer Models\n",
      "  [ ] qc.................. Experimental Data for Question Classification\n",
      "  [ ] reuters............. The Reuters-21578 benchmark corpus, ApteMod\n",
      "                           version\n",
      "  [ ] rslp................ RSLP Stemmer (Removedor de Sufixos da Lingua\n",
      "                           Portuguesa)\n",
      "Hit Enter to continue: \n",
      "  [ ] rte................. PASCAL RTE Challenges 1, 2, and 3\n",
      "  [ ] sample_grammars..... Sample Grammars\n",
      "  [ ] semcor.............. SemCor 3.0\n",
      "  [ ] senseval............ SENSEVAL 2 Corpus: Sense Tagged Text\n",
      "  [ ] sentence_polarity... Sentence Polarity Dataset v1.0\n",
      "  [ ] sentiwordnet........ SentiWordNet\n",
      "  [ ] shakespeare......... Shakespeare XML Corpus Sample\n",
      "  [ ] sinica_treebank..... Sinica Treebank Corpus Sample\n",
      "  [ ] smultron............ SMULTRON Corpus Sample\n",
      "  [ ] snowball_data....... Snowball Data\n",
      "  [ ] spanish_grammars.... Grammars for Spanish\n",
      "  [ ] state_union......... C-Span State of the Union Address Corpus\n",
      "  [ ] stopwords........... Stopwords Corpus\n",
      "  [ ] subjectivity........ Subjectivity Dataset v1.0\n",
      "  [ ] swadesh............. Swadesh Wordlists\n",
      "  [ ] switchboard......... Switchboard Corpus Sample\n",
      "  [ ] tagsets............. Help on Tagsets\n",
      "  [ ] timit............... TIMIT Corpus Sample\n",
      "  [ ] toolbox............. Toolbox Sample Files\n",
      "  [ ] treebank............ Penn Treebank Sample\n",
      "  [ ] twitter_samples..... Twitter Samples\n",
      "Hit Enter to continue: \n",
      "  [ ] udhr2............... Universal Declaration of Human Rights Corpus\n",
      "                           (Unicode Version)\n",
      "  [ ] udhr................ Universal Declaration of Human Rights Corpus\n",
      "  [ ] unicode_samples..... Unicode Samples\n",
      "  [ ] universal_tagset.... Mappings to the Universal Part-of-Speech Tagset\n",
      "  [ ] universal_treebanks_v20 Universal Treebanks Version 2.0\n",
      "  [ ] vader_lexicon....... VADER Sentiment Lexicon\n",
      "  [ ] verbnet3............ VerbNet Lexicon, Version 3.3\n",
      "  [ ] verbnet............. VerbNet Lexicon, Version 2.1\n",
      "  [ ] webtext............. Web Text Corpus\n",
      "  [ ] wmt15_eval.......... Evaluation data from WMT15\n",
      "  [ ] word2vec_sample..... Word2Vec Sample\n",
      "  [ ] wordnet2021......... Open English Wordnet 2021\n",
      "  [ ] wordnet31........... Wordnet 3.1\n",
      "  [ ] wordnet............. WordNet\n",
      "  [ ] wordnet_ic.......... WordNet-InfoContent\n",
      "  [ ] words............... Word Lists\n",
      "  [ ] ycoe................ York-Toronto-Helsinki Parsed Corpus of Old\n",
      "                           English Prose\n",
      "\n",
      "Collections:\n",
      "  [ ] all-corpora......... All the corpora\n",
      "Hit Enter to continue: \n",
      "  [ ] all-nltk............ All packages available on nltk_data gh-pages\n",
      "                           branch\n",
      "  [ ] all................. All packages\n",
      "  [ ] book................ Everything used in the NLTK Book\n",
      "  [ ] popular............. Popular packages\n",
      "  [ ] tests............... Packages for running tests\n",
      "  [ ] third-party......... Third-party data packages\n",
      "\n",
      "([*] marks installed packages)\n",
      "\n",
      "Download which package (l=list; x=cancel)?\n",
      "  Identifier> x\n",
      "\n",
      "---------------------------------------------------------------------------\n",
      "    d) Download   l) List    u) Update   c) Config   h) Help   q) Quit\n",
      "---------------------------------------------------------------------------\n",
      "Downloader> q\n"
     ]
    },
    {
     "data": {
      "text/plain": [
       "True"
      ]
     },
     "execution_count": 3,
     "metadata": {},
     "output_type": "execute_result"
    }
   ],
   "source": [
    "nltk.download()"
   ]
  },
  {
   "cell_type": "code",
   "execution_count": 4,
   "metadata": {
    "id": "5gd6u2qQEAuJ"
   },
   "outputs": [],
   "source": [
    "#!pip install gensim\n",
    "#!pip install pattern\n"
   ]
  },
  {
   "cell_type": "code",
   "execution_count": 5,
   "metadata": {
    "colab": {
     "base_uri": "https://localhost:8080/"
    },
    "id": "p4osjk-5EAyg",
    "outputId": "1c46a84f-33fa-4377-e0aa-f8d80be27240"
   },
   "outputs": [
    {
     "name": "stderr",
     "output_type": "stream",
     "text": [
      "[nltk_data] Downloading package brown to /root/nltk_data...\n",
      "[nltk_data]   Unzipping corpora/brown.zip.\n"
     ]
    },
    {
     "data": {
      "text/plain": [
       "True"
      ]
     },
     "execution_count": 5,
     "metadata": {},
     "output_type": "execute_result"
    }
   ],
   "source": [
    "#from nltk.corpus import brown \n",
    "#brown.words()\n",
    "\n",
    "nltk.download('brown')"
   ]
  },
  {
   "cell_type": "code",
   "execution_count": 6,
   "metadata": {
    "colab": {
     "base_uri": "https://localhost:8080/"
    },
    "id": "aRn3ogGmEA1o",
    "outputId": "fedc6064-446a-44a1-94a3-11f78f24309d"
   },
   "outputs": [
    {
     "data": {
      "text/plain": [
       "['The', 'Fulton', 'County', 'Grand', 'Jury', 'said', ...]"
      ]
     },
     "execution_count": 6,
     "metadata": {},
     "output_type": "execute_result"
    }
   ],
   "source": [
    "from nltk.corpus import brown \n",
    "brown.words()"
   ]
  },
  {
   "cell_type": "code",
   "execution_count": 7,
   "metadata": {
    "colab": {
     "base_uri": "https://localhost:8080/"
    },
    "id": "bqQP6x5GEcYR",
    "outputId": "57968eb1-b01b-4109-cd8d-0709ad52a96b"
   },
   "outputs": [
    {
     "name": "stderr",
     "output_type": "stream",
     "text": [
      "[nltk_data] Downloading package gutenberg to /root/nltk_data...\n",
      "[nltk_data]   Unzipping corpora/gutenberg.zip.\n"
     ]
    },
    {
     "data": {
      "text/plain": [
       "['austen-emma.txt',\n",
       " 'austen-persuasion.txt',\n",
       " 'austen-sense.txt',\n",
       " 'bible-kjv.txt',\n",
       " 'blake-poems.txt',\n",
       " 'bryant-stories.txt',\n",
       " 'burgess-busterbrown.txt',\n",
       " 'carroll-alice.txt',\n",
       " 'chesterton-ball.txt',\n",
       " 'chesterton-brown.txt',\n",
       " 'chesterton-thursday.txt',\n",
       " 'edgeworth-parents.txt',\n",
       " 'melville-moby_dick.txt',\n",
       " 'milton-paradise.txt',\n",
       " 'shakespeare-caesar.txt',\n",
       " 'shakespeare-hamlet.txt',\n",
       " 'shakespeare-macbeth.txt',\n",
       " 'whitman-leaves.txt']"
      ]
     },
     "execution_count": 7,
     "metadata": {},
     "output_type": "execute_result"
    }
   ],
   "source": [
    "nltk.download('gutenberg')\n",
    "nltk.corpus.gutenberg.fileids()\n",
    "#so, under gutenberg file we have different text. So, NLTK is a very big directory. "
   ]
  },
  {
   "cell_type": "code",
   "execution_count": 8,
   "metadata": {
    "colab": {
     "base_uri": "https://localhost:8080/"
    },
    "id": "lfvm-ku-EcaY",
    "outputId": "f66102f1-093a-4fe1-a9a8-eabd1884c201"
   },
   "outputs": [
    {
     "data": {
      "text/plain": [
       "['[', 'The', 'Tragedie', 'of', 'Hamlet', 'by', ...]"
      ]
     },
     "execution_count": 8,
     "metadata": {},
     "output_type": "execute_result"
    }
   ],
   "source": [
    "hamlet=nltk.corpus.gutenberg.words('shakespeare-hamlet.txt')\n",
    "hamlet"
   ]
  },
  {
   "cell_type": "code",
   "execution_count": 9,
   "metadata": {
    "colab": {
     "base_uri": "https://localhost:8080/"
    },
    "id": "6GVbCj-0Ece9",
    "outputId": "b5c851f9-8164-4507-b1ff-c80a098a34bb"
   },
   "outputs": [
    {
     "name": "stdout",
     "output_type": "stream",
     "text": [
      "[ The Tragedie of Hamlet by William Shakespeare 1599 ] Actus Primus . Scoena Prima . Enter Barnardo and Francisco two Centinels . Barnardo . Who ' s there ? Fran . Nay answer me : Stand & vnfold your selfe Bar . Long liue the King Fran . Barnardo ? Bar . He Fran . You come most carefully vpon your houre Bar . ' Tis now strook twelue , get thee to bed Francisco Fran . For this releefe much thankes : ' Tis bitter cold , And I am sicke at heart Barn . Haue you had quiet Guard ? Fran . Not a Mouse stirring Barn . Well , goodnight . If you do meet Horatio and Marcellus , the Riuals of my Watch , bid them make hast . Enter Horatio and Marcellus . Fran . I thinke I heare them . Stand : who ' s there ? Hor . Friends to this ground Mar . And Leige - men to the Dane Fran . Giue you good night Mar . O farwel honest Soldier , who hath relieu ' d you ? Fra . Barnardo ha ' s my place : giue you goodnight . Exit Fran . Mar . Holla Barnardo Bar . Say , what is Horatio there ? Hor . A peece of him Bar . Welcome Horatio , welcome good Marcellus Mar . What , ha ' s this thing appear ' d againe to night Bar . I haue seene nothing Mar . Horatio saies , ' tis but our Fantasie , And will not let beleefe take hold of him Touching this dreaded sight , twice seene of vs , Therefore I haue intreated him along With vs , to watch the minutes of this Night , That if againe this Apparition come , He may approue our eyes , and speake to it Hor . Tush , tush , ' twill not appeare Bar . Sit downe a - while , And let vs once againe assaile your eares , That are so fortified against our Story , What we two Nights haue seene Hor . Well , sit we downe , And let vs heare Barnardo speake of this Barn . Last night of all , When yond same Starre that ' s Westward from the Pole Had made his course t ' illume that part of Heauen Where now it burnes , Marcellus and my selfe , The Bell then beating one Mar . Peace , breake thee of : Enter the Ghost . Looke where it comes againe Barn . In the same figure , like the King that ' s dead Mar . Thou art a Scholler ; speake to it Horatio Barn . Lookes it not like the King ? Marke it Horatio Hora . Most like : It harrowes me with fear & wonder Barn . It would be spoke too Mar . Question it Horatio Hor . What art "
     ]
    }
   ],
   "source": [
    "for word in hamlet[:500]:\n",
    "\tprint(word, sep=' ', end=' ')"
   ]
  },
  {
   "cell_type": "code",
   "execution_count": 11,
   "metadata": {
    "id": "vsz5PmZUEkQh"
   },
   "outputs": [],
   "source": [
    "Kamyab_Jawan_Class = 'The commercial drivers of the obesity epidemic are so influential that obesity can be considered a robust sign of commercial success – consumers are buying more food, more cars and more energysaving machines. It is unlikely that these powerful economic forces will change sufficiently in response to consumer desires to eat less and move more or corporate desires to be more socially responsible. When the free market creates substantial population detriments and health inequalities, government policies are needed to change the ground rules in favour of population benefits '"
   ]
  },
  {
   "cell_type": "code",
   "execution_count": 12,
   "metadata": {
    "colab": {
     "base_uri": "https://localhost:8080/"
    },
    "id": "162f4EzuEkUo",
    "outputId": "d3c6058e-0a80-48f4-f0f5-ec94a8612bf3"
   },
   "outputs": [
    {
     "name": "stderr",
     "output_type": "stream",
     "text": [
      "[nltk_data] Downloading package punkt to /root/nltk_data...\n",
      "[nltk_data]   Unzipping tokenizers/punkt.zip.\n"
     ]
    },
    {
     "data": {
      "text/plain": [
       "True"
      ]
     },
     "execution_count": 12,
     "metadata": {},
     "output_type": "execute_result"
    }
   ],
   "source": [
    "from nltk.tokenize import word_tokenize\n",
    "nltk.download('punkt')"
   ]
  },
  {
   "cell_type": "code",
   "execution_count": 14,
   "metadata": {
    "colab": {
     "base_uri": "https://localhost:8080/"
    },
    "id": "H9IjWwoKEkXw",
    "outputId": "5a042c39-0d23-49a9-948f-e5d1386f44ee"
   },
   "outputs": [
    {
     "data": {
      "text/plain": [
       "['The',\n",
       " 'commercial',\n",
       " 'drivers',\n",
       " 'of',\n",
       " 'the',\n",
       " 'obesity',\n",
       " 'epidemic',\n",
       " 'are',\n",
       " 'so',\n",
       " 'influential',\n",
       " 'that',\n",
       " 'obesity',\n",
       " 'can',\n",
       " 'be',\n",
       " 'considered',\n",
       " 'a',\n",
       " 'robust',\n",
       " 'sign',\n",
       " 'of',\n",
       " 'commercial',\n",
       " 'success',\n",
       " '–',\n",
       " 'consumers',\n",
       " 'are',\n",
       " 'buying',\n",
       " 'more',\n",
       " 'food',\n",
       " ',',\n",
       " 'more',\n",
       " 'cars',\n",
       " 'and',\n",
       " 'more',\n",
       " 'energysaving',\n",
       " 'machines',\n",
       " '.',\n",
       " 'It',\n",
       " 'is',\n",
       " 'unlikely',\n",
       " 'that',\n",
       " 'these',\n",
       " 'powerful',\n",
       " 'economic',\n",
       " 'forces',\n",
       " 'will',\n",
       " 'change',\n",
       " 'sufficiently',\n",
       " 'in',\n",
       " 'response',\n",
       " 'to',\n",
       " 'consumer',\n",
       " 'desires',\n",
       " 'to',\n",
       " 'eat',\n",
       " 'less',\n",
       " 'and',\n",
       " 'move',\n",
       " 'more',\n",
       " 'or',\n",
       " 'corporate',\n",
       " 'desires',\n",
       " 'to',\n",
       " 'be',\n",
       " 'more',\n",
       " 'socially',\n",
       " 'responsible',\n",
       " '.',\n",
       " 'When',\n",
       " 'the',\n",
       " 'free',\n",
       " 'market',\n",
       " 'creates',\n",
       " 'substantial',\n",
       " 'population',\n",
       " 'detriments',\n",
       " 'and',\n",
       " 'health',\n",
       " 'inequalities',\n",
       " ',',\n",
       " 'government',\n",
       " 'policies',\n",
       " 'are',\n",
       " 'needed',\n",
       " 'to',\n",
       " 'change',\n",
       " 'the',\n",
       " 'ground',\n",
       " 'rules',\n",
       " 'in',\n",
       " 'favour',\n",
       " 'of',\n",
       " 'population',\n",
       " 'benefits']"
      ]
     },
     "execution_count": 14,
     "metadata": {},
     "output_type": "execute_result"
    }
   ],
   "source": [
    "# we have divided the whole AI paragraph into Tokens. \n",
    "AI_tokens = word_tokenize(Kamyab_Jawan_Class)\n",
    "AI_tokens "
   ]
  },
  {
   "cell_type": "code",
   "execution_count": 15,
   "metadata": {
    "colab": {
     "base_uri": "https://localhost:8080/"
    },
    "id": "Ryo6Jt5-EwRI",
    "outputId": "18290beb-40ca-4e78-db61-32f7d7450d76"
   },
   "outputs": [
    {
     "data": {
      "text/plain": [
       "92"
      ]
     },
     "execution_count": 15,
     "metadata": {},
     "output_type": "execute_result"
    }
   ],
   "source": [
    "len(AI_tokens)\n",
    "#Number of Tokens we have "
   ]
  },
  {
   "cell_type": "code",
   "execution_count": 16,
   "metadata": {
    "id": "ZNZ8fkiKEwYJ"
   },
   "outputs": [],
   "source": [
    "#Frequency Words\n",
    "from nltk.probability import FreqDist\n",
    "fdist = FreqDist()"
   ]
  },
  {
   "cell_type": "code",
   "execution_count": 17,
   "metadata": {
    "colab": {
     "base_uri": "https://localhost:8080/"
    },
    "id": "jyg-ZARbE5Nq",
    "outputId": "27c1ecc7-5d5f-463b-c4ae-7c0955c38426"
   },
   "outputs": [
    {
     "data": {
      "text/plain": [
       "FreqDist({',': 2,\n",
       "          '.': 2,\n",
       "          'a': 1,\n",
       "          'and': 3,\n",
       "          'are': 3,\n",
       "          'be': 2,\n",
       "          'benefits': 1,\n",
       "          'buying': 1,\n",
       "          'can': 1,\n",
       "          'cars': 1,\n",
       "          'change': 2,\n",
       "          'commercial': 2,\n",
       "          'considered': 1,\n",
       "          'consumer': 1,\n",
       "          'consumers': 1,\n",
       "          'corporate': 1,\n",
       "          'creates': 1,\n",
       "          'desires': 2,\n",
       "          'detriments': 1,\n",
       "          'drivers': 1,\n",
       "          'eat': 1,\n",
       "          'economic': 1,\n",
       "          'energysaving': 1,\n",
       "          'epidemic': 1,\n",
       "          'favour': 1,\n",
       "          'food': 1,\n",
       "          'forces': 1,\n",
       "          'free': 1,\n",
       "          'government': 1,\n",
       "          'ground': 1,\n",
       "          'health': 1,\n",
       "          'in': 2,\n",
       "          'inequalities': 1,\n",
       "          'influential': 1,\n",
       "          'is': 1,\n",
       "          'it': 1,\n",
       "          'less': 1,\n",
       "          'machines': 1,\n",
       "          'market': 1,\n",
       "          'more': 5,\n",
       "          'move': 1,\n",
       "          'needed': 1,\n",
       "          'obesity': 2,\n",
       "          'of': 3,\n",
       "          'or': 1,\n",
       "          'policies': 1,\n",
       "          'population': 2,\n",
       "          'powerful': 1,\n",
       "          'response': 1,\n",
       "          'responsible': 1,\n",
       "          'robust': 1,\n",
       "          'rules': 1,\n",
       "          'sign': 1,\n",
       "          'so': 1,\n",
       "          'socially': 1,\n",
       "          'substantial': 1,\n",
       "          'success': 1,\n",
       "          'sufficiently': 1,\n",
       "          'that': 2,\n",
       "          'the': 4,\n",
       "          'these': 1,\n",
       "          'to': 4,\n",
       "          'unlikely': 1,\n",
       "          'when': 1,\n",
       "          'will': 1,\n",
       "          '–': 1})"
      ]
     },
     "execution_count": 17,
     "metadata": {},
     "output_type": "execute_result"
    }
   ],
   "source": [
    "for word in AI_tokens:\n",
    "\tfdist[word.lower()]+=1\n",
    "fdist"
   ]
  },
  {
   "cell_type": "code",
   "execution_count": 18,
   "metadata": {
    "colab": {
     "base_uri": "https://localhost:8080/"
    },
    "id": "pB-P91qIE5Pt",
    "outputId": "e32f8f19-e345-4f25-a353-ad082deee2b6"
   },
   "outputs": [
    {
     "data": {
      "text/plain": [
       "4"
      ]
     },
     "execution_count": 18,
     "metadata": {},
     "output_type": "execute_result"
    }
   ],
   "source": [
    "#Single word count/frequency \n",
    "fdist ['the']"
   ]
  },
  {
   "cell_type": "code",
   "execution_count": 19,
   "metadata": {
    "colab": {
     "base_uri": "https://localhost:8080/"
    },
    "id": "fpK1i_0cE5SJ",
    "outputId": "88b6579f-6e5a-438f-f502-cfac416a641c"
   },
   "outputs": [
    {
     "data": {
      "text/plain": [
       "[('more', 5),\n",
       " ('the', 4),\n",
       " ('to', 4),\n",
       " ('of', 3),\n",
       " ('are', 3),\n",
       " ('and', 3),\n",
       " ('commercial', 2),\n",
       " ('obesity', 2),\n",
       " ('that', 2),\n",
       " ('be', 2)]"
      ]
     },
     "execution_count": 19,
     "metadata": {},
     "output_type": "execute_result"
    }
   ],
   "source": [
    "#Most common words which have highest number of frequency \n",
    "fdist_top10=fdist.most_common(10)\n",
    "fdist_top10"
   ]
  },
  {
   "cell_type": "code",
   "execution_count": 20,
   "metadata": {
    "id": "bKx0kGj6E5Uk"
   },
   "outputs": [],
   "source": [
    "#Remove puntuations \n",
    "import re\n",
    "punctuation=re.compile(r'[-,?!,:;.()|0-9]')"
   ]
  },
  {
   "cell_type": "code",
   "execution_count": 21,
   "metadata": {
    "id": "ndwZEmYyE-1Z"
   },
   "outputs": [],
   "source": [
    "post_punctuation=[]\n",
    "for words in AI_tokens:\n",
    "\tword=punctuation.sub(\"\",words)\n",
    "\tif len(word)>0:\n",
    "\t   post_punctuation.append(word)"
   ]
  },
  {
   "cell_type": "code",
   "execution_count": 22,
   "metadata": {
    "colab": {
     "base_uri": "https://localhost:8080/"
    },
    "id": "_KlmEuQZE-3p",
    "outputId": "130b8595-4bc7-4288-8883-de5bed215c7e"
   },
   "outputs": [
    {
     "data": {
      "text/plain": [
       "['The',\n",
       " 'commercial',\n",
       " 'drivers',\n",
       " 'of',\n",
       " 'the',\n",
       " 'obesity',\n",
       " 'epidemic',\n",
       " 'are',\n",
       " 'so',\n",
       " 'influential',\n",
       " 'that',\n",
       " 'obesity',\n",
       " 'can',\n",
       " 'be',\n",
       " 'considered',\n",
       " 'a',\n",
       " 'robust',\n",
       " 'sign',\n",
       " 'of',\n",
       " 'commercial',\n",
       " 'success',\n",
       " '–',\n",
       " 'consumers',\n",
       " 'are',\n",
       " 'buying',\n",
       " 'more',\n",
       " 'food',\n",
       " 'more',\n",
       " 'cars',\n",
       " 'and',\n",
       " 'more',\n",
       " 'energysaving',\n",
       " 'machines',\n",
       " 'It',\n",
       " 'is',\n",
       " 'unlikely',\n",
       " 'that',\n",
       " 'these',\n",
       " 'powerful',\n",
       " 'economic',\n",
       " 'forces',\n",
       " 'will',\n",
       " 'change',\n",
       " 'sufficiently',\n",
       " 'in',\n",
       " 'response',\n",
       " 'to',\n",
       " 'consumer',\n",
       " 'desires',\n",
       " 'to',\n",
       " 'eat',\n",
       " 'less',\n",
       " 'and',\n",
       " 'move',\n",
       " 'more',\n",
       " 'or',\n",
       " 'corporate',\n",
       " 'desires',\n",
       " 'to',\n",
       " 'be',\n",
       " 'more',\n",
       " 'socially',\n",
       " 'responsible',\n",
       " 'When',\n",
       " 'the',\n",
       " 'free',\n",
       " 'market',\n",
       " 'creates',\n",
       " 'substantial',\n",
       " 'population',\n",
       " 'detriments',\n",
       " 'and',\n",
       " 'health',\n",
       " 'inequalities',\n",
       " 'government',\n",
       " 'policies',\n",
       " 'are',\n",
       " 'needed',\n",
       " 'to',\n",
       " 'change',\n",
       " 'the',\n",
       " 'ground',\n",
       " 'rules',\n",
       " 'in',\n",
       " 'favour',\n",
       " 'of',\n",
       " 'population',\n",
       " 'benefits']"
      ]
     },
     "execution_count": 22,
     "metadata": {},
     "output_type": "execute_result"
    }
   ],
   "source": [
    "post_punctuation"
   ]
  }
 ],
 "metadata": {
  "colab": {
   "collapsed_sections": [],
   "name": "NLTK Installation.ipynb",
   "provenance": []
  },
  "kernelspec": {
   "display_name": "Python 3",
   "language": "python",
   "name": "python3"
  },
  "language_info": {
   "codemirror_mode": {
    "name": "ipython",
    "version": 3
   },
   "file_extension": ".py",
   "mimetype": "text/x-python",
   "name": "python",
   "nbconvert_exporter": "python",
   "pygments_lexer": "ipython3",
   "version": "3.7.4"
  }
 },
 "nbformat": 4,
 "nbformat_minor": 1
}
